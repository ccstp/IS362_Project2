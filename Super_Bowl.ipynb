{
 "cells": [
  {
   "cell_type": "markdown",
   "id": "59db9c1c",
   "metadata": {},
   "source": [
    "# Project 2\n",
    "\n",
    "## Data Set 3 - Super Bowl\n",
    "\n",
    "For this data set, the goal is to determine the Super Bowl win percentage of each NFL team and to display the top 5 winningest teams in Super Bowl history."
   ]
  },
  {
   "cell_type": "code",
   "execution_count": 1,
   "id": "61aac399",
   "metadata": {},
   "outputs": [],
   "source": [
    "# Import pandas\n",
    "\n",
    "import pandas as pan\n",
    "from pandas import DataFrame, Series\n",
    "\n",
    "# Read the information from .csv file into pandas\n",
    "\n",
    "sb = pan.read_csv('SuperBowlData.csv')"
   ]
  },
  {
   "cell_type": "code",
   "execution_count": 2,
   "id": "4bd640f5",
   "metadata": {},
   "outputs": [
    {
     "data": {
      "text/html": [
       "<div>\n",
       "<style scoped>\n",
       "    .dataframe tbody tr th:only-of-type {\n",
       "        vertical-align: middle;\n",
       "    }\n",
       "\n",
       "    .dataframe tbody tr th {\n",
       "        vertical-align: top;\n",
       "    }\n",
       "\n",
       "    .dataframe thead th {\n",
       "        text-align: right;\n",
       "    }\n",
       "</style>\n",
       "<table border=\"1\" class=\"dataframe\">\n",
       "  <thead>\n",
       "    <tr style=\"text-align: right;\">\n",
       "      <th></th>\n",
       "      <th>Game</th>\n",
       "      <th>Date/Season</th>\n",
       "      <th>Winning team</th>\n",
       "      <th>Score</th>\n",
       "      <th>Losing team</th>\n",
       "    </tr>\n",
       "  </thead>\n",
       "  <tbody>\n",
       "    <tr>\n",
       "      <th>0</th>\n",
       "      <td>I[sb 1]</td>\n",
       "      <td>January 15, 1967 (1966 AFL/1966 NFL)</td>\n",
       "      <td>Green Bay Packersn(1, 1–0)</td>\n",
       "      <td>35–10</td>\n",
       "      <td>Kansas City Chiefsa(1, 0–1)</td>\n",
       "    </tr>\n",
       "    <tr>\n",
       "      <th>1</th>\n",
       "      <td>II[sb 1]</td>\n",
       "      <td>January 14, 1968 (1967 AFL/1967 NFL)</td>\n",
       "      <td>Green Bay Packersn(2, 2–0)</td>\n",
       "      <td>33–14</td>\n",
       "      <td>Oakland Raidersa(1, 0–1)</td>\n",
       "    </tr>\n",
       "    <tr>\n",
       "      <th>2</th>\n",
       "      <td>III[sb 1]</td>\n",
       "      <td>January 12, 1969 (1968 AFL/1968 NFL)</td>\n",
       "      <td>New York Jetsa(1, 1–0)</td>\n",
       "      <td>16–7</td>\n",
       "      <td>Baltimore Coltsn(1, 0–1)</td>\n",
       "    </tr>\n",
       "    <tr>\n",
       "      <th>3</th>\n",
       "      <td>IV[sb 1]</td>\n",
       "      <td>January 11, 1970 (1969 AFL/1969 NFL)</td>\n",
       "      <td>Kansas City Chiefsa(2, 1–1)</td>\n",
       "      <td>23–7</td>\n",
       "      <td>Minnesota Vikingsn(1, 0–1)</td>\n",
       "    </tr>\n",
       "    <tr>\n",
       "      <th>4</th>\n",
       "      <td>V</td>\n",
       "      <td>January 17, 1971 (1970)</td>\n",
       "      <td>Baltimore ColtsA(2, 1–1)</td>\n",
       "      <td>16–13</td>\n",
       "      <td>Dallas CowboysN(1, 0–1)</td>\n",
       "    </tr>\n",
       "  </tbody>\n",
       "</table>\n",
       "</div>"
      ],
      "text/plain": [
       "        Game                           Date/Season  \\\n",
       "0    I[sb 1]  January 15, 1967 (1966 AFL/1966 NFL)   \n",
       "1   II[sb 1]  January 14, 1968 (1967 AFL/1967 NFL)   \n",
       "2  III[sb 1]  January 12, 1969 (1968 AFL/1968 NFL)   \n",
       "3   IV[sb 1]  January 11, 1970 (1969 AFL/1969 NFL)   \n",
       "4          V               January 17, 1971 (1970)   \n",
       "\n",
       "                  Winning team  Score                  Losing team  \n",
       "0   Green Bay Packersn(1, 1–0)  35–10  Kansas City Chiefsa(1, 0–1)  \n",
       "1   Green Bay Packersn(2, 2–0)  33–14     Oakland Raidersa(1, 0–1)  \n",
       "2       New York Jetsa(1, 1–0)   16–7     Baltimore Coltsn(1, 0–1)  \n",
       "3  Kansas City Chiefsa(2, 1–1)   23–7   Minnesota Vikingsn(1, 0–1)  \n",
       "4     Baltimore ColtsA(2, 1–1)  16–13      Dallas CowboysN(1, 0–1)  "
      ]
     },
     "execution_count": 2,
     "metadata": {},
     "output_type": "execute_result"
    }
   ],
   "source": [
    "# Display the population data in the dataframe\n",
    "\n",
    "sb.head()"
   ]
  },
  {
   "cell_type": "markdown",
   "id": "67d93b04",
   "metadata": {},
   "source": [
    "Looking at the data, there is no need to change the format. However, there is a need to clean up the data in order to analyze it and answer the questions.\n",
    "\n",
    "Since the goal is to determine the Super Bowl win percentage of each NFL team and to display the top 5 winningest teams in Super Bowl history, it will be necessary to clean up the Winning team column. The first step is to split the data in that column into two separate columns."
   ]
  },
  {
   "cell_type": "code",
   "execution_count": 3,
   "id": "6c6bdb23",
   "metadata": {},
   "outputs": [
    {
     "data": {
      "text/html": [
       "<div>\n",
       "<style scoped>\n",
       "    .dataframe tbody tr th:only-of-type {\n",
       "        vertical-align: middle;\n",
       "    }\n",
       "\n",
       "    .dataframe tbody tr th {\n",
       "        vertical-align: top;\n",
       "    }\n",
       "\n",
       "    .dataframe thead th {\n",
       "        text-align: right;\n",
       "    }\n",
       "</style>\n",
       "<table border=\"1\" class=\"dataframe\">\n",
       "  <thead>\n",
       "    <tr style=\"text-align: right;\">\n",
       "      <th></th>\n",
       "      <th>Game</th>\n",
       "      <th>Date/Season</th>\n",
       "      <th>Winning team</th>\n",
       "      <th>Score</th>\n",
       "      <th>Losing team</th>\n",
       "      <th>Winning team record</th>\n",
       "    </tr>\n",
       "  </thead>\n",
       "  <tbody>\n",
       "    <tr>\n",
       "      <th>0</th>\n",
       "      <td>I[sb 1]</td>\n",
       "      <td>January 15, 1967 (1966 AFL/1966 NFL)</td>\n",
       "      <td>Green Bay Packersn</td>\n",
       "      <td>35–10</td>\n",
       "      <td>Kansas City Chiefsa(1, 0–1)</td>\n",
       "      <td>1, 1–0)</td>\n",
       "    </tr>\n",
       "    <tr>\n",
       "      <th>1</th>\n",
       "      <td>II[sb 1]</td>\n",
       "      <td>January 14, 1968 (1967 AFL/1967 NFL)</td>\n",
       "      <td>Green Bay Packersn</td>\n",
       "      <td>33–14</td>\n",
       "      <td>Oakland Raidersa(1, 0–1)</td>\n",
       "      <td>2, 2–0)</td>\n",
       "    </tr>\n",
       "    <tr>\n",
       "      <th>2</th>\n",
       "      <td>III[sb 1]</td>\n",
       "      <td>January 12, 1969 (1968 AFL/1968 NFL)</td>\n",
       "      <td>New York Jetsa</td>\n",
       "      <td>16–7</td>\n",
       "      <td>Baltimore Coltsn(1, 0–1)</td>\n",
       "      <td>1, 1–0)</td>\n",
       "    </tr>\n",
       "    <tr>\n",
       "      <th>3</th>\n",
       "      <td>IV[sb 1]</td>\n",
       "      <td>January 11, 1970 (1969 AFL/1969 NFL)</td>\n",
       "      <td>Kansas City Chiefsa</td>\n",
       "      <td>23–7</td>\n",
       "      <td>Minnesota Vikingsn(1, 0–1)</td>\n",
       "      <td>2, 1–1)</td>\n",
       "    </tr>\n",
       "    <tr>\n",
       "      <th>4</th>\n",
       "      <td>V</td>\n",
       "      <td>January 17, 1971 (1970)</td>\n",
       "      <td>Baltimore ColtsA</td>\n",
       "      <td>16–13</td>\n",
       "      <td>Dallas CowboysN(1, 0–1)</td>\n",
       "      <td>2, 1–1)</td>\n",
       "    </tr>\n",
       "  </tbody>\n",
       "</table>\n",
       "</div>"
      ],
      "text/plain": [
       "        Game                           Date/Season         Winning team  \\\n",
       "0    I[sb 1]  January 15, 1967 (1966 AFL/1966 NFL)   Green Bay Packersn   \n",
       "1   II[sb 1]  January 14, 1968 (1967 AFL/1967 NFL)   Green Bay Packersn   \n",
       "2  III[sb 1]  January 12, 1969 (1968 AFL/1968 NFL)       New York Jetsa   \n",
       "3   IV[sb 1]  January 11, 1970 (1969 AFL/1969 NFL)  Kansas City Chiefsa   \n",
       "4          V               January 17, 1971 (1970)     Baltimore ColtsA   \n",
       "\n",
       "   Score                  Losing team Winning team record  \n",
       "0  35–10  Kansas City Chiefsa(1, 0–1)             1, 1–0)  \n",
       "1  33–14     Oakland Raidersa(1, 0–1)             2, 2–0)  \n",
       "2   16–7     Baltimore Coltsn(1, 0–1)             1, 1–0)  \n",
       "3   23–7   Minnesota Vikingsn(1, 0–1)             2, 1–1)  \n",
       "4  16–13      Dallas CowboysN(1, 0–1)             2, 1–1)  "
      ]
     },
     "execution_count": 3,
     "metadata": {},
     "output_type": "execute_result"
    }
   ],
   "source": [
    "# Split the information in the Winning team column into two columns using the \\ delimiter\n",
    "\n",
    "sb[['Winning team', 'Winning team record']] = sb['Winning team'].str.split('\\(', expand=True)\n",
    "sb.head()"
   ]
  },
  {
   "cell_type": "markdown",
   "id": "869d7f2c",
   "metadata": {},
   "source": [
    "Now that the data in the Winning team column has been split into two separate columns, it's easily noticeable that there is an extraneous character at the end of the name for each team. To further clean up the clean up the column, the extraneous character is stripped away."
   ]
  },
  {
   "cell_type": "code",
   "execution_count": 4,
   "id": "97851780",
   "metadata": {},
   "outputs": [
    {
     "data": {
      "text/html": [
       "<div>\n",
       "<style scoped>\n",
       "    .dataframe tbody tr th:only-of-type {\n",
       "        vertical-align: middle;\n",
       "    }\n",
       "\n",
       "    .dataframe tbody tr th {\n",
       "        vertical-align: top;\n",
       "    }\n",
       "\n",
       "    .dataframe thead th {\n",
       "        text-align: right;\n",
       "    }\n",
       "</style>\n",
       "<table border=\"1\" class=\"dataframe\">\n",
       "  <thead>\n",
       "    <tr style=\"text-align: right;\">\n",
       "      <th></th>\n",
       "      <th>Game</th>\n",
       "      <th>Date/Season</th>\n",
       "      <th>Winning team</th>\n",
       "      <th>Score</th>\n",
       "      <th>Losing team</th>\n",
       "      <th>Winning team record</th>\n",
       "    </tr>\n",
       "  </thead>\n",
       "  <tbody>\n",
       "    <tr>\n",
       "      <th>0</th>\n",
       "      <td>I[sb 1]</td>\n",
       "      <td>January 15, 1967 (1966 AFL/1966 NFL)</td>\n",
       "      <td>Green Bay Packers</td>\n",
       "      <td>35–10</td>\n",
       "      <td>Kansas City Chiefsa(1, 0–1)</td>\n",
       "      <td>1, 1–0)</td>\n",
       "    </tr>\n",
       "    <tr>\n",
       "      <th>1</th>\n",
       "      <td>II[sb 1]</td>\n",
       "      <td>January 14, 1968 (1967 AFL/1967 NFL)</td>\n",
       "      <td>Green Bay Packers</td>\n",
       "      <td>33–14</td>\n",
       "      <td>Oakland Raidersa(1, 0–1)</td>\n",
       "      <td>2, 2–0)</td>\n",
       "    </tr>\n",
       "    <tr>\n",
       "      <th>2</th>\n",
       "      <td>III[sb 1]</td>\n",
       "      <td>January 12, 1969 (1968 AFL/1968 NFL)</td>\n",
       "      <td>New York Jets</td>\n",
       "      <td>16–7</td>\n",
       "      <td>Baltimore Coltsn(1, 0–1)</td>\n",
       "      <td>1, 1–0)</td>\n",
       "    </tr>\n",
       "    <tr>\n",
       "      <th>3</th>\n",
       "      <td>IV[sb 1]</td>\n",
       "      <td>January 11, 1970 (1969 AFL/1969 NFL)</td>\n",
       "      <td>Kansas City Chiefs</td>\n",
       "      <td>23–7</td>\n",
       "      <td>Minnesota Vikingsn(1, 0–1)</td>\n",
       "      <td>2, 1–1)</td>\n",
       "    </tr>\n",
       "    <tr>\n",
       "      <th>4</th>\n",
       "      <td>V</td>\n",
       "      <td>January 17, 1971 (1970)</td>\n",
       "      <td>Baltimore Colts</td>\n",
       "      <td>16–13</td>\n",
       "      <td>Dallas CowboysN(1, 0–1)</td>\n",
       "      <td>2, 1–1)</td>\n",
       "    </tr>\n",
       "  </tbody>\n",
       "</table>\n",
       "</div>"
      ],
      "text/plain": [
       "        Game                           Date/Season        Winning team  Score  \\\n",
       "0    I[sb 1]  January 15, 1967 (1966 AFL/1966 NFL)   Green Bay Packers  35–10   \n",
       "1   II[sb 1]  January 14, 1968 (1967 AFL/1967 NFL)   Green Bay Packers  33–14   \n",
       "2  III[sb 1]  January 12, 1969 (1968 AFL/1968 NFL)       New York Jets   16–7   \n",
       "3   IV[sb 1]  January 11, 1970 (1969 AFL/1969 NFL)  Kansas City Chiefs   23–7   \n",
       "4          V               January 17, 1971 (1970)     Baltimore Colts  16–13   \n",
       "\n",
       "                   Losing team Winning team record  \n",
       "0  Kansas City Chiefsa(1, 0–1)             1, 1–0)  \n",
       "1     Oakland Raidersa(1, 0–1)             2, 2–0)  \n",
       "2     Baltimore Coltsn(1, 0–1)             1, 1–0)  \n",
       "3   Minnesota Vikingsn(1, 0–1)             2, 1–1)  \n",
       "4      Dallas CowboysN(1, 0–1)             2, 1–1)  "
      ]
     },
     "execution_count": 4,
     "metadata": {},
     "output_type": "execute_result"
    }
   ],
   "source": [
    "# Strip the a/A or n/N from the end of team name\n",
    "\n",
    "sb['Winning team'] = sb['Winning team'].str.strip().str[:-1]\n",
    "sb.head()"
   ]
  },
  {
   "cell_type": "markdown",
   "id": "7eac5354",
   "metadata": {},
   "source": [
    "Once the data in the Winning team column has been cleaned up, it is now time to count the number of Super Bowl wins by team, as well as the total number of Super Bowl games played."
   ]
  },
  {
   "cell_type": "code",
   "execution_count": 5,
   "id": "0539c0b1",
   "metadata": {},
   "outputs": [
    {
     "data": {
      "text/plain": [
       "Winning team\n",
       "Baltimore Colts         1\n",
       "Baltimore Ravens        2\n",
       "Chicago Bears           1\n",
       "Dallas Cowboys          5\n",
       "Denver Broncos          3\n",
       "Green Bay Packers       4\n",
       "Indianapolis Colts      1\n",
       "Kansas City Chiefs      3\n",
       "Los Angeles Raiders     1\n",
       "Los Angeles Rams        1\n",
       "Miami Dolphins          2\n",
       "New England Patriots    6\n",
       "New Orleans Saints      1\n",
       "New York Giants         4\n",
       "New York Jets           1\n",
       "Oakland Raiders         2\n",
       "Philadelphia Eagles     1\n",
       "Pittsburgh Steelers     6\n",
       "San Francisco 49ers     5\n",
       "Seattle Seahawks        1\n",
       "St. Louis Rams          1\n",
       "Tampa Bay Buccaneers    2\n",
       "Washington Redskins     3\n",
       "Name: Game, dtype: int64"
      ]
     },
     "execution_count": 5,
     "metadata": {},
     "output_type": "execute_result"
    }
   ],
   "source": [
    "# Count the number of Super Bowl wins for each team\n",
    "\n",
    "team_win_count = sb.groupby('Winning team')['Game'].count()\n",
    "team_win_count"
   ]
  },
  {
   "cell_type": "code",
   "execution_count": 6,
   "id": "d000139b",
   "metadata": {},
   "outputs": [
    {
     "data": {
      "text/plain": [
       "57"
      ]
     },
     "execution_count": 6,
     "metadata": {},
     "output_type": "execute_result"
    }
   ],
   "source": [
    "# Count the total number of Super Bowl games played\n",
    "\n",
    "sb['Game'].count()"
   ]
  },
  {
   "cell_type": "markdown",
   "id": "b96e5c8c",
   "metadata": {},
   "source": [
    "The Super Bowl win percentage of each team is calculated using the number of Super Bowl wins divided by the total number of Super Bowl games. The calculated percentage is then sorted in descending order, from the highest percentage to the lowest."
   ]
  },
  {
   "cell_type": "code",
   "execution_count": 7,
   "id": "9cee172c",
   "metadata": {},
   "outputs": [
    {
     "data": {
      "text/plain": [
       "Winning team\n",
       "New England Patriots    10.526316\n",
       "Pittsburgh Steelers     10.526316\n",
       "San Francisco 49ers      8.771930\n",
       "Dallas Cowboys           8.771930\n",
       "Green Bay Packers        7.017544\n",
       "New York Giants          7.017544\n",
       "Kansas City Chiefs       5.263158\n",
       "Washington Redskins      5.263158\n",
       "Denver Broncos           5.263158\n",
       "Miami Dolphins           3.508772\n",
       "Baltimore Ravens         3.508772\n",
       "Oakland Raiders          3.508772\n",
       "Tampa Bay Buccaneers     3.508772\n",
       "Los Angeles Raiders      1.754386\n",
       "Los Angeles Rams         1.754386\n",
       "New Orleans Saints       1.754386\n",
       "Indianapolis Colts       1.754386\n",
       "New York Jets            1.754386\n",
       "Philadelphia Eagles      1.754386\n",
       "Chicago Bears            1.754386\n",
       "Seattle Seahawks         1.754386\n",
       "St. Louis Rams           1.754386\n",
       "Baltimore Colts          1.754386\n",
       "Name: Game, dtype: float64"
      ]
     },
     "execution_count": 7,
     "metadata": {},
     "output_type": "execute_result"
    }
   ],
   "source": [
    "# Calculate the Super Bowl win percentage for each team and sort in descending order\n",
    "\n",
    "team_win_percent = ((team_win_count / 57) * 100).sort_values(ascending=False)\n",
    "team_win_percent"
   ]
  },
  {
   "cell_type": "markdown",
   "id": "8ba90170",
   "metadata": {},
   "source": [
    "These are the five winningest teams in Super Bowl history:"
   ]
  },
  {
   "cell_type": "code",
   "execution_count": 8,
   "id": "80b9c1ef",
   "metadata": {},
   "outputs": [
    {
     "data": {
      "text/plain": [
       "Winning team\n",
       "New England Patriots    10.526316\n",
       "Pittsburgh Steelers     10.526316\n",
       "San Francisco 49ers      8.771930\n",
       "Dallas Cowboys           8.771930\n",
       "Green Bay Packers        7.017544\n",
       "Name: Game, dtype: float64"
      ]
     },
     "execution_count": 8,
     "metadata": {},
     "output_type": "execute_result"
    }
   ],
   "source": [
    "# Display the top five teams with the highest percentage of Super Bowl wins\n",
    "\n",
    "team_win_percent.head(5)"
   ]
  },
  {
   "cell_type": "markdown",
   "id": "664d38d9",
   "metadata": {},
   "source": [
    "The New England Patriots, Pittsburg Steelers, San Francisco 49ers, Dallas Cowboys, and Green Bay Packers are the five winningest teams in Super Bowl history."
   ]
  }
 ],
 "metadata": {
  "kernelspec": {
   "display_name": "Python 3 (ipykernel)",
   "language": "python",
   "name": "python3"
  },
  "language_info": {
   "codemirror_mode": {
    "name": "ipython",
    "version": 3
   },
   "file_extension": ".py",
   "mimetype": "text/x-python",
   "name": "python",
   "nbconvert_exporter": "python",
   "pygments_lexer": "ipython3",
   "version": "3.9.7"
  }
 },
 "nbformat": 4,
 "nbformat_minor": 5
}
